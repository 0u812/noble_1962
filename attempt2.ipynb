{
  "cells": [
    {
      "cell_type": "code",
      "source": [
        "model noble_1962__membrane(V, i_Na, i_K, i_Leak)\n",
        "  // Rate Rules:\n",
        "  V' = -(i_Na + i_K + i_Leak)/Cm;\n",
        "\n",
        "  // Variable initializations:\n",
        "  species V = -87; // output\n",
        "  Cm = 12;\n",
        "  species i_Na, i_K, i_Leak; // input\n",
        "end\n",
        "\n",
        "model noble_1962__sodium_channel_m_gate(m, V)\n",
        "  alpha_m = 100*(-V - 48) / ( exp((-V - 48)/15) - 1 )\n",
        "  beta_m = 120*(V+8)/( exp((V+8)/5) - 1 )\n",
        "  m' = alpha_m*(1-m) - beta_m*m\n",
        "  // Variable initializations:\n",
        "  m = 0.01; // output\n",
        "  species V; // input\n",
        "end\n",
        "\n",
        "model noble_1962__sodium_channel_h_gate(h, V)\n",
        "  alpha_h = 170*exp((-V-90)/20)\n",
        "  beta_h = 1000/(1 + exp((-V-42)/10))\n",
        "  h' = alpha_h*(1-h) - beta_h*h\n",
        "  // Variable initializations:\n",
        "  h = 0.8; // output\n",
        "  species V; // input\n",
        "end\n",
        "\n",
        "model noble_1962__sodium_channel(i_Na, V, m, h)\n",
        "  // Sub-modules, and any changes to those submodules:\n",
        "  sodium_channel_m_gate: noble_1962__sodium_channel_m_gate(m, V);\n",
        "  sodium_channel_h_gate: noble_1962__sodium_channel_h_gate(h, V);\n",
        "  \n",
        "  // Assignment Rules:\n",
        "  species i_NA, g_Na; // output\n",
        "  i_Na := (g_Na + 140)*(V - E_Na);\n",
        "  g_Na := power(m, 3)*h*g_Na_max;\n",
        "\n",
        "  // Variable initializations:\n",
        "  g_Na_max = 400000; // us\n",
        "  E_Na = 40; // mV\n",
        "end\n",
        "\n",
        "model noble_1962__potassium_channel_n_gate(n, V)\n",
        "  alpha_n = 0.1*(-V-50) / ((exp(-V-50)/10) - 1)\n",
        "  beta_n = 2*exp((-V-90)/80)\n",
        "  n' = alpha_n*(1-n)-beta_n*n\n",
        "  // Variable initializations:\n",
        "  n = 0.01; // output\n",
        "  species V; // input\n",
        "end\n",
        "\n",
        "model noble_1962__potassium_channel(i_K, V, n)\n",
        "  i_K = (g_K1 + g_K2)*(V+100)\n",
        "  g_K1 = 1200*exp((-v-90)/50) + 15*exp((v+90)/60)\n",
        "  g_K2 = 1200*n^4\n",
        "  // Sub-modules, and any changes to those submodules:\n",
        "  potassium_channel_n_gate: noble_1962__potassium_channel_n_gate(n, V);\n",
        "\n",
        "  // Variable initializations:\n",
        "  species V; // output\n",
        "  species n = 0.01; // input\n",
        "end\n",
        "\n",
        "model noble_1962__leakage_current(i_Leak, V)\n",
        "  i_Leak = g_L*(V-E_L)\n",
        "  // Variable initializations:\n",
        "  g_L = 75;\n",
        "  E_L = -60;\n",
        "  species V; // input\n",
        "end\n",
        "\n",
        "model *noble_1962____main()\n",
        "  // Sub-modules, and any changes to those submodules:\n",
        "  membrane: noble_1962__membrane(V, i_Na, i_K, i_Leak);\n",
        "  sodium_channel: noble_1962__sodium_channel(i_Na, V, m, h);\n",
        "  potassium_channel: noble_1962__potassium_channel(i_K, V, n);\n",
        "  leakage_current: noble_1962__leakage_current(i_Leak, V);\n",
        "end\n",
        "\nNoble62: noble_1962____main();"
      ],
      "outputs": [
        {
          "output_type": "error",
          "ename": "RuntimeError",
          "evalue": "Errors encountered when trying to load model:\nError in model string, line 42:  14 SBML error(s) when creating module 'noble_1962__sodium_channel'.  libAntimony tries to catch these errors before libSBML complains, but sometimes cannot.  Error message(s) from libSBML:\n\nThe value of a 'comp:modelRef' attribute on a <submodel> must be the identifier of a <model>, <modelDefinition>, or <externalModelDefinition> object in the same SBML object as the <submodel>.\nReference: L3V1 Comp V1 Section 3.5.1\n In Submodel::instantiate, unable to instantiate submodel 'sodium_channel_m_gate' because the referenced model ('noble_1962__sodium_channel_m_gate') does not exist.\n\nThe value of a 'comp:modelRef' attribute on a <submodel> must be the identifier of a <model>, <modelDefinition>, or <externalModelDefinition> object in the same SBML object as the <submodel>.\nReference: L3V1 Comp V1 Section 3.5.1\n In Submodel::instantiate, unable to instantiate submodel 'sodium_channel_h_gate' because the referenced model ('noble_1962__sodium_channel_h_gate') does not exist.\n\nThe value of a 'comp:modelRef' attribute on a <submodel> must be the identifier of a <model>, <modelDefinition>, or <externalModelDefinition> object in the same SBML object as the <submodel>.\nReference: L3V1 Comp V1 Section 3.5.1\n In Submodel::instantiate, unable to instantiate submodel 'sodium_channel_m_gate' because the referenced model ('noble_1962__sodium_channel_m_gate') does not exist.\n\nThe value of a 'comp:modelRef' attribute on a <submodel> must be the identifier of a <model>, <modelDefinition>, or <externalModelDefinition> object in the same SBML object as the <submodel>.\nReference: L3V1 Comp V1 Section 3.5.1\n In Submodel::instantiate, unable to instantiate submodel 'sodium_channel_h_gate' because the referenced model ('noble_1962__sodium_channel_h_gate') does not exist.\n\nThe value of a 'comp:modelRef' attribute on a <submodel> must be the identifier of a <model>, <modelDefinition>, or <externalModelDefinition> object in the same SBML object as the <submodel>.\nReference: L3V1 Comp V1 Section 3.5.1\n In Submodel::instantiate, unable to instantiate submodel 'sodium_channel_m_gate' because the referenced model ('noble_1962__sodium_channel_m_gate') does not exist.\n\nThe value of a 'comp:modelRef' attribute on a <submodel> must be the identifier of a <model>, <modelDefinition>, or <externalModelDefinition> object in the same SBML object as the <submodel>.\nReference: L3V1 Comp V1 Section 3.5.1\n In Submodel::instantiate, unable to instantiate submodel 'sodium_channel_h_gate' because the referenced model ('noble_1962__sodium_channel_h_gate') does not exist.\n\nThe value of a 'comp:modelRef' attribute on a <submodel> must be the identifier of a <model>, <modelDefinition>, or <externalModelDefinition> object in the same SBML object as the <submodel>.\nReference: L3V1 Comp V1 Section 3.5.1\n In Submodel::instantiate, unable to instantiate submodel 'sodium_channel_m_gate' because the referenced model ('noble_1962__sodium_channel_m_gate') does not exist.\n\nThe value of a 'comp:modelRef' attribute on a <submodel> must be the identifier of a <model>, <modelDefinition>, or <externalModelDefinition> object in the same SBML object as the <submodel>.\nReference: L3V1 Comp V1 Section 3.5.1\n In Submodel::instantiate, unable to instantiate submodel 'sodium_channel_h_gate' because the referenced model ('noble_1962__sodium_channel_h_gate') does not exist.\n\nThe value of a 'comp:modelRef' attribute on a <submodel> must be the identifier of a <model>, <modelDefinition>, or <externalModelDefinition> object in the same SBML object as the <submodel>.\nReference: L3V1 Comp V1 Section 3.5.1\n In Submodel::instantiate, unable to instantiate submodel 'sodium_channel_m_gate' because the referenced model ('noble_1962__sodium_channel_m_gate') does not exist.\n\nThe value of a 'comp:modelRef' attribute on a <submodel> must be the identifier of a <model>, <modelDefinition>, or <externalModelDefinition> object in the same SBML object as the <submodel>.\nReference: L3V1 Comp V1 Section 3.5.1\n In Submodel::instantiate, unable to instantiate submodel 'sodium_channel_h_gate' because the referenced model ('noble_1962__sodium_channel_h_gate') does not exist.\n\nThe value of a 'comp:modelRef' attribute on a <submodel> must be the identifier of a <model>, <modelDefinition>, or <externalModelDefinition> object in the same SBML object as the <submodel>.\nReference: L3V1 Comp V1 Section 3.5.1\n In Submodel::instantiate, unable to instantiate submodel 'sodium_channel_m_gate' because the referenced model ('noble_1962__sodium_channel_m_gate') does not exist.\n\nThe value of a 'comp:modelRef' attribute on a <submodel> must be the identifier of a <model>, <modelDefinition>, or <externalModelDefinition> object in the same SBML object as the <submodel>.\nReference: L3V1 Comp V1 Section 3.5.1\n In Submodel::instantiate, unable to instantiate submodel 'sodium_channel_h_gate' because the referenced model ('noble_1962__sodium_channel_h_gate') does not exist.\n\nThe value of a 'comp:modelRef' attribute on a <submodel> must be the identifier of a <model>, <modelDefinition>, or <externalModelDefinition> object in the same SBML object as the <submodel>.\nReference: L3V1 Comp V1 Section 3.5.1\n The <submodel> with the id 'sodium_channel_m_gate' in the model 'noble_1962__sodium_channel' refers to a model with id 'noble_1962__sodium_channel_m_gate' that does not exist in the referenced document.\n\nThe value of a 'comp:modelRef' attribute on a <submodel> must be the identifier of a <model>, <modelDefinition>, or <externalModelDefinition> object in the same SBML object as the <submodel>.\nReference: L3V1 Comp V1 Section 3.5.1\n The <submodel> with the id 'sodium_channel_h_gate' in the model 'noble_1962__sodium_channel' refers to a model with id 'noble_1962__sodium_channel_h_gate' that does not exist in the referenced document.\n",
          "traceback": [
            "\u001b[0;31m---------------------------------------------------------------------------\u001b[0m",
            "\u001b[0;31mRuntimeError\u001b[0m                              Traceback (most recent call last)",
            "\u001b[0;32m<ipython-input-2-5b64c57fb28b>\u001b[0m in \u001b[0;36m<module>\u001b[0;34m()\u001b[0m\n\u001b[0;32m----> 1\u001b[0;31m \u001b[0mget_ipython\u001b[0m\u001b[0;34m(\u001b[0m\u001b[0;34m)\u001b[0m\u001b[0;34m.\u001b[0m\u001b[0mrun_cell_magic\u001b[0m\u001b[0;34m(\u001b[0m\u001b[0;34m'crn'\u001b[0m\u001b[0;34m,\u001b[0m \u001b[0;34m''\u001b[0m\u001b[0;34m,\u001b[0m \u001b[0;34m\"model noble_1962__membrane(V, i_Na, i_K, i_Leak)\\n  // Rate Rules:\\n  V' = -(i_Na + i_K + i_Leak)/Cm;\\n\\n  // Variable initializations:\\n  species V = -87; // output\\n  Cm = 12;\\n  species i_Na, i_K, i_Leak; // input\\nend\\n\\nmodel noble_1962__sodium_channel_m_gate(m, V)\\n  alpha_m = 100*(-V - 48) / ( exp((-V - 48)/15) - 1 )\\n  beta_m = 120*(V+8)/( exp((V+8)/5) - 1 )\\n  m' = alpha_m*(1-m) - beta_m*m\\n  // Variable initializations:\\n  m = 0.01; // output\\n  species V; // input\\nend\\n\\nmodel noble_1962__sodium_channel_h_gate(h, V)\\n  alpha_h = 170*exp((-V-90)/20)\\n  beta_h = 1000/(1 + exp((-V-42)/10))\\n  h' = alpha_h*(1-h) - beta_h*h\\n  // Variable initializations:\\n  h = 0.8; // output\\n  species V; // input\\nend\\n\\nmodel noble_1962__sodium_channel(i_Na, V, m, h)\\n  // Sub-modules, and any changes to those submodules:\\n  sodium_channel_m_gate: noble_1962__sodium_channel_m_gate(m, V);\\n  sodium_channel_h_gate: noble_1962__sodium_channel_h_gate(h, V);\\n  \\n  // Assignment Rules:\\n  species i_NA, g_Na; // output\\n  i_Na := (g_Na + 140)*(V - E_Na);\\n  g_Na := power(m, 3)*h*g_Na_max;\\n\\n  // Variable initializations:\\n  g_Na_max = 400000; // us\\n  E_Na = 40; // mV\\nend\\n\\nmodel noble_1962__potassium_channel_n_gate(n, V)\\n  alpha_n = 0.1*(-V-50) / ((exp(-V-50)/10) - 1)\\n  beta_n = 2*exp((-V-90)/80)\\n  n' = alpha_n*(1-n)-beta_n*n\\n  // Variable initializations:\\n  n = 0.01; // output\\n  species V; // input\\nend\\n\\nmodel noble_1962__potassium_channel(i_K, V, n)\\n  i_K = (g_K1 + g_K2)*(V+100)\\n  g_K1 = 1200*exp((-v-90)/50) + 15*exp((v+90)/60)\\n  g_K2 = 1200*n^4\\n  // Sub-modules, and any changes to those submodules:\\n  potassium_channel_n_gate: noble_1962__potassium_channel_n_gate(n, V);\\n\\n  // Variable initializations:\\n  species V; // output\\n  species n = 0.01; // input\\nend\\n\\nmodel noble_1962__leakage_current(i_Leak, V)\\n  i_Leak = g_L*(V-E_L)\\n  // Variable initializations:\\n  g_L = 75;\\n  E_L = -60;\\n  species V; // input\\nend\\n\\nmodel *noble_1962____main()\\n  // Sub-modules, and any changes to those submodules:\\n  membrane: noble_1962__membrane(V, i_Na, i_K, i_Leak);\\n  sodium_channel: noble_1962__sodium_channel(i_Na, V, m, h);\\n  potassium_channel: noble_1962__potassium_channel(i_K, V, n);\\n  leakage_current: noble_1962__leakage_current(i_Leak, V);\\nend\\n\\nNoble62: noble_1962____main();\"\u001b[0m\u001b[0;34m)\u001b[0m\u001b[0;34m\u001b[0m\u001b[0m\n\u001b[0m",
            "\u001b[0;32m/Users/phantom/Library/Application Support/Tellurium/telocal/python-3.6.1/lib/python3.6/site-packages/IPython/core/interactiveshell.py\u001b[0m in \u001b[0;36mrun_cell_magic\u001b[0;34m(self, magic_name, line, cell)\u001b[0m\n\u001b[1;32m   2113\u001b[0m             \u001b[0mmagic_arg_s\u001b[0m \u001b[0;34m=\u001b[0m \u001b[0mself\u001b[0m\u001b[0;34m.\u001b[0m\u001b[0mvar_expand\u001b[0m\u001b[0;34m(\u001b[0m\u001b[0mline\u001b[0m\u001b[0;34m,\u001b[0m \u001b[0mstack_depth\u001b[0m\u001b[0;34m)\u001b[0m\u001b[0;34m\u001b[0m\u001b[0m\n\u001b[1;32m   2114\u001b[0m             \u001b[0;32mwith\u001b[0m \u001b[0mself\u001b[0m\u001b[0;34m.\u001b[0m\u001b[0mbuiltin_trap\u001b[0m\u001b[0;34m:\u001b[0m\u001b[0;34m\u001b[0m\u001b[0m\n\u001b[0;32m-> 2115\u001b[0;31m                 \u001b[0mresult\u001b[0m \u001b[0;34m=\u001b[0m \u001b[0mfn\u001b[0m\u001b[0;34m(\u001b[0m\u001b[0mmagic_arg_s\u001b[0m\u001b[0;34m,\u001b[0m \u001b[0mcell\u001b[0m\u001b[0;34m)\u001b[0m\u001b[0;34m\u001b[0m\u001b[0m\n\u001b[0m\u001b[1;32m   2116\u001b[0m             \u001b[0;32mreturn\u001b[0m \u001b[0mresult\u001b[0m\u001b[0;34m\u001b[0m\u001b[0m\n\u001b[1;32m   2117\u001b[0m \u001b[0;34m\u001b[0m\u001b[0m\n",
            "\u001b[0;32m<decorator-gen-126>\u001b[0m in \u001b[0;36mcrn\u001b[0;34m(self, line, cell)\u001b[0m\n",
            "\u001b[0;32m/Users/phantom/Library/Application Support/Tellurium/telocal/python-3.6.1/lib/python3.6/site-packages/IPython/core/magic.py\u001b[0m in \u001b[0;36m<lambda>\u001b[0;34m(f, *a, **k)\u001b[0m\n\u001b[1;32m    186\u001b[0m     \u001b[0;31m# but it's overkill for just that one bit of state.\u001b[0m\u001b[0;34m\u001b[0m\u001b[0;34m\u001b[0m\u001b[0m\n\u001b[1;32m    187\u001b[0m     \u001b[0;32mdef\u001b[0m \u001b[0mmagic_deco\u001b[0m\u001b[0;34m(\u001b[0m\u001b[0marg\u001b[0m\u001b[0;34m)\u001b[0m\u001b[0;34m:\u001b[0m\u001b[0;34m\u001b[0m\u001b[0m\n\u001b[0;32m--> 188\u001b[0;31m         \u001b[0mcall\u001b[0m \u001b[0;34m=\u001b[0m \u001b[0;32mlambda\u001b[0m \u001b[0mf\u001b[0m\u001b[0;34m,\u001b[0m \u001b[0;34m*\u001b[0m\u001b[0ma\u001b[0m\u001b[0;34m,\u001b[0m \u001b[0;34m**\u001b[0m\u001b[0mk\u001b[0m\u001b[0;34m:\u001b[0m \u001b[0mf\u001b[0m\u001b[0;34m(\u001b[0m\u001b[0;34m*\u001b[0m\u001b[0ma\u001b[0m\u001b[0;34m,\u001b[0m \u001b[0;34m**\u001b[0m\u001b[0mk\u001b[0m\u001b[0;34m)\u001b[0m\u001b[0;34m\u001b[0m\u001b[0m\n\u001b[0m\u001b[1;32m    189\u001b[0m \u001b[0;34m\u001b[0m\u001b[0m\n\u001b[1;32m    190\u001b[0m         \u001b[0;32mif\u001b[0m \u001b[0mcallable\u001b[0m\u001b[0;34m(\u001b[0m\u001b[0marg\u001b[0m\u001b[0;34m)\u001b[0m\u001b[0;34m:\u001b[0m\u001b[0;34m\u001b[0m\u001b[0m\n",
            "\u001b[0;32m/Users/phantom/devel/src/temagics/temagics/magics.py\u001b[0m in \u001b[0;36mcrn\u001b[0;34m(self, line, cell)\u001b[0m\n\u001b[1;32m     40\u001b[0m \u001b[0;34m\u001b[0m\u001b[0m\n\u001b[1;32m     41\u001b[0m         \u001b[0;31m# convert cell content (Antimony) to raw SBML\u001b[0m\u001b[0;34m\u001b[0m\u001b[0;34m\u001b[0m\u001b[0m\n\u001b[0;32m---> 42\u001b[0;31m         \u001b[0mmodule\u001b[0m\u001b[0;34m,\u001b[0m\u001b[0msbml_str\u001b[0m \u001b[0;34m=\u001b[0m \u001b[0mantimonyConverter\u001b[0m\u001b[0;34m(\u001b[0m\u001b[0;34m)\u001b[0m\u001b[0;34m.\u001b[0m\u001b[0mantimonyToSBML\u001b[0m\u001b[0;34m(\u001b[0m\u001b[0mcell\u001b[0m\u001b[0;34m)\u001b[0m\u001b[0;34m\u001b[0m\u001b[0m\n\u001b[0m\u001b[1;32m     43\u001b[0m \u001b[0;34m\u001b[0m\u001b[0m\n\u001b[1;32m     44\u001b[0m         \u001b[0;31m# override name?\u001b[0m\u001b[0;34m\u001b[0m\u001b[0;34m\u001b[0m\u001b[0m\n",
            "\u001b[0;32m/Users/phantom/devel/src/tellurium/tellurium/teconverters/convert_antimony.py\u001b[0m in \u001b[0;36mantimonyToSBML\u001b[0;34m(self, sb_str)\u001b[0m\n\u001b[1;32m     80\u001b[0m         \u001b[0;32mif\u001b[0m \u001b[0mself\u001b[0m\u001b[0;34m.\u001b[0m\u001b[0mcheckAntimonyReturnCode\u001b[0m\u001b[0;34m(\u001b[0m\u001b[0mcode\u001b[0m\u001b[0;34m)\u001b[0m\u001b[0;34m:\u001b[0m\u001b[0;34m\u001b[0m\u001b[0m\n\u001b[1;32m     81\u001b[0m             \u001b[0merrors\u001b[0m \u001b[0;34m=\u001b[0m \u001b[0msb\u001b[0m\u001b[0;34m.\u001b[0m\u001b[0mgetLastError\u001b[0m\u001b[0;34m(\u001b[0m\u001b[0;34m)\u001b[0m\u001b[0;34m\u001b[0m\u001b[0m\n\u001b[0;32m---> 82\u001b[0;31m             \u001b[0;32mraise\u001b[0m \u001b[0mRuntimeError\u001b[0m\u001b[0;34m(\u001b[0m\u001b[0;34m'Errors encountered when trying to load model:\\n{}'\u001b[0m\u001b[0;34m.\u001b[0m\u001b[0mformat\u001b[0m\u001b[0;34m(\u001b[0m\u001b[0merrors\u001b[0m\u001b[0;34m)\u001b[0m\u001b[0;34m)\u001b[0m\u001b[0;34m\u001b[0m\u001b[0m\n\u001b[0m\u001b[1;32m     83\u001b[0m \u001b[0;34m\u001b[0m\u001b[0m\n\u001b[1;32m     84\u001b[0m         \u001b[0mmodule\u001b[0m \u001b[0;34m=\u001b[0m \u001b[0msb\u001b[0m\u001b[0;34m.\u001b[0m\u001b[0mgetMainModuleName\u001b[0m\u001b[0;34m(\u001b[0m\u001b[0;34m)\u001b[0m\u001b[0;34m\u001b[0m\u001b[0m\n",
            "\u001b[0;31mRuntimeError\u001b[0m: Errors encountered when trying to load model:\nError in model string, line 42:  14 SBML error(s) when creating module 'noble_1962__sodium_channel'.  libAntimony tries to catch these errors before libSBML complains, but sometimes cannot.  Error message(s) from libSBML:\n\nThe value of a 'comp:modelRef' attribute on a <submodel> must be the identifier of a <model>, <modelDefinition>, or <externalModelDefinition> object in the same SBML object as the <submodel>.\nReference: L3V1 Comp V1 Section 3.5.1\n In Submodel::instantiate, unable to instantiate submodel 'sodium_channel_m_gate' because the referenced model ('noble_1962__sodium_channel_m_gate') does not exist.\n\nThe value of a 'comp:modelRef' attribute on a <submodel> must be the identifier of a <model>, <modelDefinition>, or <externalModelDefinition> object in the same SBML object as the <submodel>.\nReference: L3V1 Comp V1 Section 3.5.1\n In Submodel::instantiate, unable to instantiate submodel 'sodium_channel_h_gate' because the referenced model ('noble_1962__sodium_channel_h_gate') does not exist.\n\nThe value of a 'comp:modelRef' attribute on a <submodel> must be the identifier of a <model>, <modelDefinition>, or <externalModelDefinition> object in the same SBML object as the <submodel>.\nReference: L3V1 Comp V1 Section 3.5.1\n In Submodel::instantiate, unable to instantiate submodel 'sodium_channel_m_gate' because the referenced model ('noble_1962__sodium_channel_m_gate') does not exist.\n\nThe value of a 'comp:modelRef' attribute on a <submodel> must be the identifier of a <model>, <modelDefinition>, or <externalModelDefinition> object in the same SBML object as the <submodel>.\nReference: L3V1 Comp V1 Section 3.5.1\n In Submodel::instantiate, unable to instantiate submodel 'sodium_channel_h_gate' because the referenced model ('noble_1962__sodium_channel_h_gate') does not exist.\n\nThe value of a 'comp:modelRef' attribute on a <submodel> must be the identifier of a <model>, <modelDefinition>, or <externalModelDefinition> object in the same SBML object as the <submodel>.\nReference: L3V1 Comp V1 Section 3.5.1\n In Submodel::instantiate, unable to instantiate submodel 'sodium_channel_m_gate' because the referenced model ('noble_1962__sodium_channel_m_gate') does not exist.\n\nThe value of a 'comp:modelRef' attribute on a <submodel> must be the identifier of a <model>, <modelDefinition>, or <externalModelDefinition> object in the same SBML object as the <submodel>.\nReference: L3V1 Comp V1 Section 3.5.1\n In Submodel::instantiate, unable to instantiate submodel 'sodium_channel_h_gate' because the referenced model ('noble_1962__sodium_channel_h_gate') does not exist.\n\nThe value of a 'comp:modelRef' attribute on a <submodel> must be the identifier of a <model>, <modelDefinition>, or <externalModelDefinition> object in the same SBML object as the <submodel>.\nReference: L3V1 Comp V1 Section 3.5.1\n In Submodel::instantiate, unable to instantiate submodel 'sodium_channel_m_gate' because the referenced model ('noble_1962__sodium_channel_m_gate') does not exist.\n\nThe value of a 'comp:modelRef' attribute on a <submodel> must be the identifier of a <model>, <modelDefinition>, or <externalModelDefinition> object in the same SBML object as the <submodel>.\nReference: L3V1 Comp V1 Section 3.5.1\n In Submodel::instantiate, unable to instantiate submodel 'sodium_channel_h_gate' because the referenced model ('noble_1962__sodium_channel_h_gate') does not exist.\n\nThe value of a 'comp:modelRef' attribute on a <submodel> must be the identifier of a <model>, <modelDefinition>, or <externalModelDefinition> object in the same SBML object as the <submodel>.\nReference: L3V1 Comp V1 Section 3.5.1\n In Submodel::instantiate, unable to instantiate submodel 'sodium_channel_m_gate' because the referenced model ('noble_1962__sodium_channel_m_gate') does not exist.\n\nThe value of a 'comp:modelRef' attribute on a <submodel> must be the identifier of a <model>, <modelDefinition>, or <externalModelDefinition> object in the same SBML object as the <submodel>.\nReference: L3V1 Comp V1 Section 3.5.1\n In Submodel::instantiate, unable to instantiate submodel 'sodium_channel_h_gate' because the referenced model ('noble_1962__sodium_channel_h_gate') does not exist.\n\nThe value of a 'comp:modelRef' attribute on a <submodel> must be the identifier of a <model>, <modelDefinition>, or <externalModelDefinition> object in the same SBML object as the <submodel>.\nReference: L3V1 Comp V1 Section 3.5.1\n In Submodel::instantiate, unable to instantiate submodel 'sodium_channel_m_gate' because the referenced model ('noble_1962__sodium_channel_m_gate') does not exist.\n\nThe value of a 'comp:modelRef' attribute on a <submodel> must be the identifier of a <model>, <modelDefinition>, or <externalModelDefinition> object in the same SBML object as the <submodel>.\nReference: L3V1 Comp V1 Section 3.5.1\n In Submodel::instantiate, unable to instantiate submodel 'sodium_channel_h_gate' because the referenced model ('noble_1962__sodium_channel_h_gate') does not exist.\n\nThe value of a 'comp:modelRef' attribute on a <submodel> must be the identifier of a <model>, <modelDefinition>, or <externalModelDefinition> object in the same SBML object as the <submodel>.\nReference: L3V1 Comp V1 Section 3.5.1\n The <submodel> with the id 'sodium_channel_m_gate' in the model 'noble_1962__sodium_channel' refers to a model with id 'noble_1962__sodium_channel_m_gate' that does not exist in the referenced document.\n\nThe value of a 'comp:modelRef' attribute on a <submodel> must be the identifier of a <model>, <modelDefinition>, or <externalModelDefinition> object in the same SBML object as the <submodel>.\nReference: L3V1 Comp V1 Section 3.5.1\n The <submodel> with the id 'sodium_channel_h_gate' in the model 'noble_1962__sodium_channel' refers to a model with id 'noble_1962__sodium_channel_h_gate' that does not exist in the referenced document.\n"
          ]
        }
      ],
      "execution_count": 2,
      "metadata": {
        "collapsed": false,
        "outputHidden": false,
        "inputHidden": false,
        "tellurium": {
          "te_cell_type": "antimony"
        }
      }
    },
    {
      "cell_type": "code",
      "source": [],
      "outputs": [],
      "execution_count": null,
      "metadata": {
        "collapsed": false,
        "outputHidden": false,
        "inputHidden": false
      }
    }
  ],
  "metadata": {
    "kernelspec": {
      "name": "python3",
      "language": "python",
      "display_name": "Python 3"
    },
    "kernel_info": {
      "name": "python3"
    },
    "language_info": {
      "name": "python",
      "version": "3.6.1",
      "mimetype": "text/x-python",
      "codemirror_mode": {
        "name": "ipython",
        "version": 3
      },
      "pygments_lexer": "ipython3",
      "nbconvert_exporter": "python",
      "file_extension": ".py"
    }
  },
  "nbformat": 4,
  "nbformat_minor": 4
}