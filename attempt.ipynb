{
  "cells": [
    {
      "cell_type": "markdown",
      "source": [
        "[Converting MathML to string](http://sbml.org/Software/libSBML/5.13.0/docs//python-api/libsbml-math.html)"
      ],
      "metadata": {}
    },
    {
      "cell_type": "code",
      "source": [
        "import tesbml as libsbml"
      ],
      "outputs": [],
      "execution_count": 2,
      "metadata": {
        "collapsed": false,
        "outputHidden": false,
        "inputHidden": false
      }
    },
    {
      "cell_type": "code",
      "source": [
        "ast = libsbml.readMathMLFromString('''\n",
        "<math xmlns=\"http://www.w3.org/1998/Math/MathML\">\n",
        "         <apply>\n",
        "            <eq/>\n",
        "            <ci>alpha_h</ci>\n",
        "            <apply>\n",
        "               <times/>\n",
        "               <cn xmlns:cellml=\"http://www.cellml.org/cellml/1.0#\" cellml:units=\"per_second\">170</cn>\n",
        "               <apply>\n",
        "                  <exp/>\n",
        "                  <apply>\n",
        "                     <divide/>\n",
        "                     <apply>\n",
        "                        <minus/>\n",
        "                        <apply>\n",
        "                           <minus/>\n",
        "                           <ci>V</ci>\n",
        "                        </apply>\n",
        "                        <cn xmlns:cellml=\"http://www.cellml.org/cellml/1.0#\" cellml:units=\"millivolt\">90</cn>\n",
        "                     </apply>\n",
        "                     <cn xmlns:cellml=\"http://www.cellml.org/cellml/1.0#\" cellml:units=\"millivolt\">20</cn>\n",
        "                  </apply>\n",
        "               </apply>\n",
        "            </apply>\n",
        "         </apply>\n",
        "         <apply>\n",
        "            <eq/>\n",
        "            <ci>beta_h</ci>\n",
        "            <apply>\n",
        "               <divide/>\n",
        "               <cn xmlns:cellml=\"http://www.cellml.org/cellml/1.0#\" cellml:units=\"per_second\">1000</cn>\n",
        "               <apply>\n",
        "                  <plus/>\n",
        "                  <cn xmlns:cellml=\"http://www.cellml.org/cellml/1.0#\" cellml:units=\"dimensionless\">1</cn>\n",
        "                  <apply>\n",
        "                     <exp/>\n",
        "                     <apply>\n",
        "                        <divide/>\n",
        "                        <apply>\n",
        "                           <minus/>\n",
        "                           <apply>\n",
        "                              <minus/>\n",
        "                              <ci>V</ci>\n",
        "                           </apply>\n",
        "                           <cn xmlns:cellml=\"http://www.cellml.org/cellml/1.0#\" cellml:units=\"millivolt\">42</cn>\n",
        "                        </apply>\n",
        "                        <cn xmlns:cellml=\"http://www.cellml.org/cellml/1.0#\" cellml:units=\"millivolt\">10</cn>\n",
        "                     </apply>\n",
        "                  </apply>\n",
        "               </apply>\n",
        "            </apply>\n",
        "         </apply>\n",
        "         <apply>\n",
        "            <eq/>\n",
        "            <apply>\n",
        "               <diff/>\n",
        "               <bvar>\n",
        "                  <ci>time</ci>\n",
        "               </bvar>\n",
        "               <ci>h</ci>\n",
        "            </apply>\n",
        "            <apply>\n",
        "               <minus/>\n",
        "               <apply>\n",
        "                  <times/>\n",
        "                  <ci>alpha_h</ci>\n",
        "                  <apply>\n",
        "                     <minus/>\n",
        "                     <cn xmlns:cellml=\"http://www.cellml.org/cellml/1.0#\" cellml:units=\"dimensionless\">1</cn>\n",
        "                     <ci>h</ci>\n",
        "                  </apply>\n",
        "               </apply>\n",
        "               <apply>\n",
        "                  <times/>\n",
        "                  <ci>beta_h</ci>\n",
        "                  <ci>h</ci>\n",
        "               </apply>\n",
        "            </apply>\n",
        "         </apply>\n",
        "      </math>\n",
        "''')"
      ],
      "outputs": [],
      "execution_count": 5,
      "metadata": {
        "collapsed": false,
        "outputHidden": false,
        "inputHidden": false
      }
    },
    {
      "cell_type": "code",
      "source": [
        "ast = libsbml.readMathMLFromString('''\n",
        "    <math xmlns=\"http://www.w3.org/1998/Math/MathML\">\n",
        "         <apply>\n",
        "            <eq/>\n",
        "            <ci>alpha_h</ci>\n",
        "            <apply>\n",
        "               <times/>\n",
        "               <cn>170</cn>\n",
        "               <apply>\n",
        "                  <exp/>\n",
        "                  <apply>\n",
        "                     <divide/>\n",
        "                     <apply>\n",
        "                        <minus/>\n",
        "                        <apply>\n",
        "                           <minus/>\n",
        "                           <ci>V</ci>\n",
        "                        </apply>\n",
        "                        <cn>90</cn>\n",
        "                     </apply>\n",
        "                     <cn>20</cn>\n",
        "                  </apply>\n",
        "               </apply>\n",
        "            </apply>\n",
        "         </apply>\n",
        "         <apply>\n",
        "            <eq/>\n",
        "            <ci>beta_h</ci>\n",
        "            <apply>\n",
        "               <divide/>\n",
        "               <cn>1000</cn>\n",
        "               <apply>\n",
        "                  <plus/>\n",
        "                  <cn>1</cn>\n",
        "                  <apply>\n",
        "                     <exp/>\n",
        "                     <apply>\n",
        "                        <divide/>\n",
        "                        <apply>\n",
        "                           <minus/>\n",
        "                           <apply>\n",
        "                              <minus/>\n",
        "                              <ci>V</ci>\n",
        "                           </apply>\n",
        "                           <cn>42</cn>\n",
        "                        </apply>\n",
        "                        <cn>10</cn>\n",
        "                     </apply>\n",
        "                  </apply>\n",
        "               </apply>\n",
        "            </apply>\n",
        "         </apply>\n",
        "         <apply>\n",
        "            <eq/>\n",
        "            <apply>\n",
        "               <diff/>\n",
        "               <bvar>\n",
        "                  <ci>time</ci>\n",
        "               </bvar>\n",
        "               <ci>h</ci>\n",
        "            </apply>\n",
        "            <apply>\n",
        "               <minus/>\n",
        "               <apply>\n",
        "                  <times/>\n",
        "                  <ci>alpha_h</ci>\n",
        "                  <apply>\n",
        "                     <minus/>\n",
        "                     <cn>1</cn>\n",
        "                     <ci>h</ci>\n",
        "                  </apply>\n",
        "               </apply>\n",
        "               <apply>\n",
        "                  <times/>\n",
        "                  <ci>beta_h</ci>\n",
        "                  <ci>h</ci>\n",
        "               </apply>\n",
        "            </apply>\n",
        "         </apply>\n",
        "      </math>\n",
        "''')"
      ],
      "outputs": [],
      "execution_count": 13,
      "metadata": {
        "collapsed": false,
        "outputHidden": false,
        "inputHidden": false
      }
    },
    {
      "cell_type": "code",
      "source": [
        "ast = libsbml.readMathMLFromString('''\n",
        "    <math xmlns=\"http://www.w3.org/1998/Math/MathML\">\n",
        "         <apply>\n",
        "            <eq/>\n",
        "            <ci>alpha_h</ci>\n",
        "            <apply>\n",
        "               <times/>\n",
        "               <cn>170</cn>\n",
        "               <apply>\n",
        "                  <exp/>\n",
        "                  <apply>\n",
        "                     <divide/>\n",
        "                     <apply>\n",
        "                        <minus/>\n",
        "                        <apply>\n",
        "                           <minus/>\n",
        "                           <ci>V</ci>\n",
        "                        </apply>\n",
        "                        <cn>90</cn>\n",
        "                     </apply>\n",
        "                     <cn>20</cn>\n",
        "                  </apply>\n",
        "               </apply>\n",
        "            </apply>\n",
        "         </apply>\n",
        "         </math>\n",
        "''')\n",
        "print(ast)"
      ],
      "outputs": [
        {
          "output_type": "stream",
          "name": "stdout",
          "text": [
            "<tecombine.libcombine.ASTNode; proxy of <Swig Object of type 'ASTNode_t *' at 0x1127caf00> >\n"
          ]
        }
      ],
      "execution_count": 3,
      "metadata": {
        "collapsed": false,
        "outputHidden": false,
        "inputHidden": false
      }
    },
    {
      "cell_type": "code",
      "source": [
        "result = libsbml.formulaToL3String(ast)\n",
        "print(result)"
      ],
      "outputs": [
        {
          "output_type": "stream",
          "name": "stdout",
          "text": [
            "alpha_h == (170 * exp((-V - 90) / 20))\n"
          ]
        }
      ],
      "execution_count": 4,
      "metadata": {
        "collapsed": false,
        "outputHidden": false,
        "inputHidden": false
      }
    },
    {
      "cell_type": "code",
      "source": [],
      "outputs": [],
      "execution_count": null,
      "metadata": {
        "collapsed": false,
        "outputHidden": false,
        "inputHidden": false
      }
    }
  ],
  "metadata": {
    "kernelspec": {
      "name": "python3",
      "language": "python",
      "display_name": "Python 3"
    },
    "kernel_info": {
      "name": "python3"
    },
    "language_info": {
      "name": "python",
      "version": "3.6.1",
      "mimetype": "text/x-python",
      "codemirror_mode": {
        "name": "ipython",
        "version": 3
      },
      "pygments_lexer": "ipython3",
      "nbconvert_exporter": "python",
      "file_extension": ".py"
    }
  },
  "nbformat": 4,
  "nbformat_minor": 4
}